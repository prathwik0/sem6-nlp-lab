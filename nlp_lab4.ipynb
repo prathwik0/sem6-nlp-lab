{
 "cells": [
  {
   "cell_type": "markdown",
   "metadata": {},
   "source": [
    "## Stop-Words\n",
    "\n",
    "Perform following stop word operations on email dataset using Spacy, Gensim and NLTK libraries\n",
    "\n",
    "a. Display existing stop words in the default list  \n",
    "b. Removing stop words form the default list  \n",
    "c. Adding stop words to the default list  \n",
    "d. Apply stop word elimination to the email dataset  "
   ]
  },
  {
   "cell_type": "code",
   "execution_count": 1,
   "metadata": {},
   "outputs": [
    {
     "name": "stdout",
     "output_type": "stream",
     "text": [
      "                                                text spam\n",
      "0  Subject: naturally it's your irresistible your...    1\n",
      "1  Subject: the stock trading gunslinger  fanny i...    1\n",
      "2  Subject: unbelievable new homes made easy  im ...    1\n",
      "3  Subject: 4 color printing special  request add...    1\n",
      "4  Subject: do not have money , get software cds ...    1\n",
      "5  Subject: great nnews  hello , welcome to medzo...    1\n",
      "6  Subject: here ' s a hot play in motion  homela...    1\n",
      "7  Subject: save your money buy getting this thin...    1\n",
      "8  Subject: undeliverable : home based business f...    1\n",
      "9  Subject: save your money buy getting this thin...    1\n",
      "<class 'pandas.core.frame.DataFrame'>\n",
      "RangeIndex: 5730 entries, 0 to 5729\n",
      "Data columns (total 2 columns):\n",
      " #   Column  Non-Null Count  Dtype \n",
      "---  ------  --------------  ----- \n",
      " 0   text    5730 non-null   object\n",
      " 1   spam    5728 non-null   object\n",
      "dtypes: object(2)\n",
      "memory usage: 89.7+ KB\n",
      "None\n"
     ]
    }
   ],
   "source": [
    "import pandas as pd\n",
    "\n",
    "data = pd.read_csv(\"./datasets/emails.csv\", usecols=[\"text\", \"spam\"])\n",
    "print(data.head(10))\n",
    "print(data.info())"
   ]
  },
  {
   "cell_type": "code",
   "execution_count": 2,
   "metadata": {},
   "outputs": [],
   "source": [
    "import spacy\n",
    "\n",
    "nlp = spacy.load(\"en_core_web_sm\")"
   ]
  },
  {
   "cell_type": "code",
   "execution_count": 3,
   "metadata": {},
   "outputs": [
    {
     "name": "stdout",
     "output_type": "stream",
     "text": [
      "{'latterly', 'however', 'formerly', 'someone', 'through', 'who', 'neither', 'were', 'could', 'any', 'amongst', 'make', 'should', 'other', \"'ll\", 'ourselves', 'wherever', 'bottom', '‘ve', 'their', 'so', 'already', 'of', 'least', 'onto', 'as', 'meanwhile', 'seemed', 'she', 'beside', 'out', '‘ll', 'get', 'if', 'per', 'n’t', 'this', 'hence', 'for', 'anywhere', 'hereby', 'among', 'thence', 'herself', 'put', 'next', 'hundred', \"'ve\", 'him', 'others', 'sometimes', \"'re\", 'becoming', 'becomes', 'those', 'you', 'no', 'been', 'i', 'until', 'whole', 'during', 'beforehand', 'do', 'hereafter', 'up', 'alone', 'yourselves', 'about', 'fifty', 'mine', 'thereupon', 'less', 'hereupon', 'made', 'because', 'own', 'six', 'ours', 'anyone', 'was', 'across', 'though', 'now', 'without', 'although', 'several', 'n‘t', 'last', 'sometime', 'really', 'all', 'herein', 'whom', 'often', 'your', 'themselves', 'every', 'with', 'go', 'a', 'via', 'ca', 'by', 'they', 'anyhow', 'when', 'seem', 'under', 'afterwards', 'yours', 'where', 'also', '’ve', 'once', 'below', 'therein', 'rather', 'must', 'five', 'namely', 'thereafter', 'am', 'not', 'side', 'everywhere', 'along', 'moreover', 'take', 'whatever', 'can', 'well', 'nothing', 'while', 'the', 'either', 'show', 'therefore', 'on', 'everyone', \"'m\", 'my', 'elsewhere', 'keep', 're', 'within', 'being', 'us', 'than', 'enough', 'has', 'same', 'top', 'somehow', 'against', 'forty', 'them', 'whereas', 'always', 'anything', '‘s', 'off', 'besides', '‘d', 'whoever', 'which', 'here', 'twelve', 'two', \"'d\", 'ten', 'quite', 'eleven', 'is', 'might', 'his', 'very', 'are', 'cannot', 'else', 'regarding', 'its', 'back', 'indeed', 'at', 'few', 'behind', 'see', 'otherwise', 'say', 'towards', 'me', '’m', 'doing', 'what', 'but', 'sixty', 'call', 'beyond', 'none', 'into', 'move', 'nor', 'most', 'mostly', 'whenever', 'in', 'since', 'there', 'thus', 'how', 'again', 'serious', 'due', 'done', 'whereby', 'whereupon', 'almost', 'further', 'became', 'our', 'to', 'yet', 'between', 'ever', 'be', 'former', 'give', 'will', 'whether', 'twenty', 'too', 'another', '’re', \"'s\", 'whither', 'and', 'except', 'even', 'somewhere', 'various', 'eight', 'more', '’ll', 'noone', 'we', \"n't\", 'above', 'upon', 'thereby', 'amount', 'whence', 'using', 'something', 'then', 'everything', 'yourself', 'three', 'unless', 'toward', 'each', 'part', 'both', 'become', 'one', 'still', 'fifteen', 'four', 'had', 'just', 'name', 'some', 'hers', 'himself', 'or', 'seeming', 'nobody', 'seems', 'first', 'why', 'itself', '‘re', 'around', 'an', 'whereafter', 'he', '’s', '’d', 'after', 'throughout', 'empty', 'full', 'front', 'would', 'nevertheless', 'does', 'nine', 'only', 'it', 'myself', 'have', 'these', 'perhaps', 'may', 'never', 'over', 'from', 'anyway', 'used', 'down', 'please', 'her', 'before', 'together', 'many', 'such', 'whose', 'thru', 'much', 'wherein', 'that', 'did', '‘m', 'nowhere', 'latter', 'third'}\n"
     ]
    }
   ],
   "source": [
    "# set of default stopwords in English language in Spacy\n",
    "all_stopwords = nlp.Defaults.stop_words\n",
    "print(all_stopwords)"
   ]
  },
  {
   "cell_type": "code",
   "execution_count": 4,
   "metadata": {},
   "outputs": [
    {
     "name": "stdout",
     "output_type": "stream",
     "text": [
      "{'latterly', 'however', 'formerly', 'someone', 'through', 'who', 'neither', 'were', 'could', 'any', 'amongst', 'make', 'should', 'other', \"'ll\", 'ourselves', 'wherever', 'bottom', '‘ve', 'their', 'so', 'already', 'of', 'least', 'onto', 'as', 'meanwhile', 'seemed', 'she', 'beside', 'out', '‘ll', 'get', 'if', 'per', 'n’t', 'this', 'hence', 'for', 'anywhere', 'hereby', 'among', 'thence', 'herself', 'put', 'next', 'hundred', \"'ve\", 'him', 'naturally', 'others', 'sometimes', \"'re\", 'becoming', 'becomes', 'those', 'you', 'no', 'been', 'i', 'until', 'whole', 'during', 'beforehand', 'do', 'hereafter', 'up', 'alone', 'yourselves', 'about', 'fifty', 'mine', 'thereupon', 'less', 'hereupon', 'made', 'because', 'own', 'six', 'ours', 'anyone', 'was', 'across', 'though', 'now', 'without', 'although', 'several', 'n‘t', 'last', 'sometime', 'really', 'all', 'herein', 'whom', 'often', 'your', 'themselves', 'every', 'with', 'go', 'a', 'via', 'ca', 'by', 'they', 'anyhow', 'seem', 'under', 'afterwards', 'yours', 'where', 'also', '’ve', 'once', 'below', 'therein', 'rather', 'must', 'five', 'namely', 'thereafter', 'am', 'not', 'side', 'everywhere', 'along', 'moreover', 'take', 'whatever', 'can', 'well', 'nothing', 'while', 'the', 'either', 'show', 'therefore', 'on', 'everyone', \"'m\", 'my', 'elsewhere', 'keep', 're', 'within', 'being', 'us', 'than', 'enough', 'has', 'same', 'top', 'somehow', 'against', 'forty', 'them', 'whereas', 'always', 'anything', '‘s', 'off', 'besides', '‘d', 'whoever', 'which', 'here', 'twelve', 'two', \"'d\", 'ten', 'quite', 'eleven', 'is', 'might', 'his', 'very', 'are', 'cannot', 'else', 'regarding', 'its', 'back', 'indeed', 'at', 'few', 'behind', 'see', 'otherwise', 'say', 'towards', 'me', '’m', 'doing', 'what', 'but', 'sixty', 'call', 'beyond', 'none', 'into', 'move', 'nor', 'most', 'mostly', 'whenever', 'in', 'since', 'there', 'thus', 'how', 'again', 'serious', 'due', 'done', 'whereby', 'whereupon', 'almost', 'further', 'became', 'our', 'to', 'yet', 'between', 'ever', 'be', 'former', 'give', 'will', 'whether', 'twenty', 'too', 'another', '’re', \"'s\", 'whither', 'and', 'except', 'even', 'somewhere', 'various', 'eight', 'more', '’ll', 'noone', 'we', \"n't\", 'above', 'upon', 'thereby', 'amount', 'whence', 'using', 'something', 'then', 'everything', 'yourself', 'three', 'unless', 'toward', 'each', 'part', 'both', 'become', 'one', 'still', 'fifteen', 'four', 'had', 'just', 'name', 'company', 'some', 'hers', 'himself', 'or', 'seeming', 'nobody', 'seems', 'first', 'why', 'itself', '‘re', 'around', 'an', 'whereafter', 'he', '’s', '’d', 'after', 'throughout', 'empty', 'full', 'front', 'would', 'nevertheless', 'does', 'nine', 'only', 'it', 'myself', 'have', 'these', 'perhaps', 'may', 'never', 'over', 'from', 'anyway', 'used', 'down', 'please', 'her', 'before', 'together', 'many', 'such', 'whose', 'thru', 'much', 'wherein', 'that', 'did', '‘m', 'nowhere', 'latter', 'third'}\n"
     ]
    }
   ],
   "source": [
    "# Remove or add stopwords\n",
    "all_stopwords.remove(\"when\")\n",
    "\n",
    "nlp.Defaults.stop_words.add(\"naturally\")\n",
    "nlp.Defaults.stop_words.add(\"company\")\n",
    "\n",
    "print(all_stopwords)"
   ]
  },
  {
   "cell_type": "code",
   "execution_count": 5,
   "metadata": {},
   "outputs": [
    {
     "data": {
      "text/plain": [
       "\"Subject: naturally it's your irresistible your corporate identity  lt is really hard to recollect a company : the  market is full of suqgestions and the information isoverwhelminq ; but a good  catchy logo , stylish statlonery and outstanding website  will make the task much easier .  we don't promise that havinq ordered a iogo your  company will automaticaily become a world ieader : it isguite ciear that  without good products , effective business organization and practicable aim it  will be hotat nowadays market ; but we do promise that your marketing efforts  will become much more effective . here is the list of clear  benefits : creativeness : hand - made , original logos , specially done  to reflect your distinctive company image . convenience : logo and stationery  are provided in all formats ; easy - to - use content management system letsyou  change your website content and even its structure . promptness : you'll see logo drafts within three business days . affordability : your  marketing break - through shouldn't make gaps in your budget . 100 % satisfaction  guaranteed : we provide unlimited amount of changes with no extra fees for you to  be surethat you will love the result of this collaboration . have a look at our  portfolio _ _ _ _ _ _ _ _ _ _ _ _ _ _ _ _ _ _ _ _ _ _ _ _ _ _ _ _ _ _ _ _ _ _ _ _ _ _ _ _ _ _ _ _ _ _ _ _ _ _ _ _ not interested . . . _ _ _ _ _ _ _ _ _ _ _ _ _ _ _ _ _ _ _ _ _ _ _ _ _ _ _ _ _ _ _ _ _ _ _ _ _ _ _ _ _ _ _ _ _ _ _ _ _ _ _ _\""
      ]
     },
     "execution_count": 5,
     "metadata": {},
     "output_type": "execute_result"
    }
   ],
   "source": [
    "Text = data[\"text\"][0]\n",
    "Text"
   ]
  },
  {
   "cell_type": "code",
   "execution_count": 6,
   "metadata": {},
   "outputs": [
    {
     "name": "stdout",
     "output_type": "stream",
     "text": [
      "['Subject', ':', 'irresistible', 'corporate', 'identity', ' ', 'lt', 'hard', 'recollect', ':', ' ', 'market', 'suqgestions', 'information', 'isoverwhelminq', ';', 'good', ' ', 'catchy', 'logo', ',', 'stylish', 'statlonery', 'outstanding', 'website', ' ', 'task', 'easier', '.', ' ', 'promise', 'havinq', 'ordered', 'iogo', ' ', 'automaticaily', 'world', 'ieader', ':', 'isguite', 'ciear', ' ', 'good', 'products', ',', 'effective', 'business', 'organization', 'practicable', 'aim', ' ', 'hotat', 'nowadays', 'market', ';', 'promise', 'marketing', 'efforts', ' ', 'effective', '.', 'list', 'clear', ' ', 'benefits', ':', 'creativeness', ':', 'hand', '-', ',', 'original', 'logos', ',', 'specially', ' ', 'reflect', 'distinctive', 'image', '.', 'convenience', ':', 'logo', 'stationery', ' ', 'provided', 'formats', ';', 'easy', '-', '-', 'use', 'content', 'management', 'system', 'letsyou', ' ', 'change', 'website', 'content', 'structure', '.', 'promptness', ':', 'logo', 'drafts', 'business', 'days', '.', 'affordability', ':', ' ', 'marketing', 'break', '-', 'gaps', 'budget', '.', '100', '%', 'satisfaction', ' ', 'guaranteed', ':', 'provide', 'unlimited', 'changes', 'extra', 'fees', ' ', 'surethat', 'love', 'result', 'collaboration', '.', 'look', ' ', 'portfolio', '_', '_', '_', '_', '_', '_', '_', '_', '_', '_', '_', '_', '_', '_', '_', '_', '_', '_', '_', '_', '_', '_', '_', '_', '_', '_', '_', '_', '_', '_', '_', '_', '_', '_', '_', '_', '_', '_', '_', '_', '_', '_', '_', '_', '_', '_', '_', '_', '_', '_', '_', '_', 'interested', '.', '.', '.', '_', '_', '_', '_', '_', '_', '_', '_', '_', '_', '_', '_', '_', '_', '_', '_', '_', '_', '_', '_', '_', '_', '_', '_', '_', '_', '_', '_', '_', '_', '_', '_', '_', '_', '_', '_', '_', '_', '_', '_', '_', '_', '_', '_', '_', '_', '_', '_', '_', '_', '_', '_']\n"
     ]
    }
   ],
   "source": [
    "doc = nlp(Text)\n",
    "Text = [i.text for i in doc if i.text not in all_stopwords]\n",
    "print(Text)"
   ]
  },
  {
   "cell_type": "markdown",
   "metadata": {},
   "source": [
    "## Stopwords operations using Gensim\n",
    "\n",
    "To add or remove stopwords we use set union and difference  \n",
    "(unlike add and remove in others)"
   ]
  },
  {
   "cell_type": "code",
   "execution_count": 7,
   "metadata": {},
   "outputs": [
    {
     "name": "stdout",
     "output_type": "stream",
     "text": [
      "frozenset({'co', 'latterly', 'however', 'formerly', 'someone', 'through', 'who', 'neither', 'were', 'could', 'any', 'amongst', 'should', 'make', 'other', 'ourselves', 'wherever', 'bottom', 'their', 'so', 'already', 'of', 'least', 'onto', 'as', 'meanwhile', 'seemed', 'she', 'beside', 'out', 'get', 'if', 'per', 'this', 'hence', 'for', 'anywhere', 'hereby', 'among', 'thence', 'herself', 'put', 'found', 'next', 'kg', 'hundred', 'him', 'others', 'sometimes', 'becoming', 'becomes', 'those', 'you', 'no', 'been', 'i', 'until', 'whole', 'couldnt', 'interest', 'during', 'beforehand', 'do', 'hereafter', 'up', 'alone', 'yourselves', 'about', 'fifty', 'mine', 'thereupon', 'less', 'hereupon', 'made', 'own', 'because', 'six', 'ours', 'anyone', 'was', 'across', 'though', 'now', 'without', 'although', 'several', 'last', 'sometime', 'really', 'all', 'herein', 'whom', 'often', 'fire', 'your', 'themselves', 'every', 'with', 'go', 'a', 'via', 'by', 'they', 'anyhow', 'when', 'thin', 'seem', 'under', 'don', 'afterwards', 'yours', 'etc', 'where', 'also', 'eg', 'once', 'therein', 'below', 'rather', 'sincere', 'must', 'five', 'namely', 'thereafter', 'am', 'not', 'side', 'de', 'everywhere', 'along', 'moreover', 'take', 'whatever', 'can', 'well', 'while', 'nothing', 'the', 'show', 'didn', 'either', 'therefore', 'on', 'km', 'everyone', 'my', 'elsewhere', 'keep', 're', 'within', 'being', 'us', 'than', 'enough', 'has', 'top', 'same', 'somehow', 'forty', 'against', 'whereas', 'them', 'always', 'anything', 'amoungst', 'off', 'besides', 'inc', 'whoever', 'which', 'here', 'twelve', 'two', 'ten', 'quite', 'eleven', 'is', 'might', 'his', 'very', 'are', 'cannot', 'else', 'bill', 'regarding', 'its', 'back', 'indeed', 'at', 'few', 'behind', 'see', 'otherwise', 'say', 'towards', 'me', 'doing', 'what', 'thick', 'but', 'sixty', 'call', 'beyond', 'none', 'move', 'into', 'nor', 'mostly', 'most', 'whenever', 'in', 'since', 'there', 'thus', 'how', 'again', 'serious', 'due', 'done', 'whereby', 'whereupon', 'almost', 'computer', 'our', 'further', 'became', 'to', 'find', 'yet', 'between', 'ever', 'will', 'be', 'former', 'give', 'whether', 'twenty', 'too', 'another', 'hasnt', 'whither', 'and', 'except', 'even', 'somewhere', 'ie', 'various', 'eight', 'more', 'system', 'noone', 'we', 'above', 'upon', 'cant', 'thereby', 'amount', 'whence', 'using', 'something', 'then', 'everything', 'yourself', 'three', 'unless', 'toward', 'each', 'part', 'con', 'both', 'become', 'one', 'still', 'fifteen', 'four', 'ltd', 'had', 'just', 'cry', 'name', 'some', 'hers', 'himself', 'or', 'seeming', 'nobody', 'seems', 'first', 'why', 'itself', 'around', 'an', 'whereafter', 'he', 'describe', 'doesn', 'after', 'throughout', 'detail', 'empty', 'full', 'front', 'would', 'nevertheless', 'does', 'nine', 'only', 'it', 'myself', 'have', 'these', 'perhaps', 'may', 'never', 'over', 'from', 'anyway', 'fill', 'used', 'down', 'please', 'her', 'before', 'together', 'many', 'such', 'whose', 'thru', 'much', 'wherein', 'un', 'mill', 'that', 'did', 'nowhere', 'latter', 'third'})\n"
     ]
    }
   ],
   "source": [
    "import gensim\n",
    "from gensim.parsing.preprocessing import STOPWORDS\n",
    "\n",
    "all_stopwords = gensim.parsing.preprocessing.STOPWORDS\n",
    "print(all_stopwords)"
   ]
  },
  {
   "cell_type": "code",
   "execution_count": 8,
   "metadata": {},
   "outputs": [
    {
     "name": "stdout",
     "output_type": "stream",
     "text": [
      "frozenset({'inc', 'whoever', 'co', 'latterly', 'however', 'which', 'formerly', 'someone', 'through', 'here', 'who', 'neither', 'twelve', 'two', 'were', 'could', 'any', 'ten', 'amongst', 'quite', 'should', 'make', 'other', 'eleven', 'is', 'ourselves', 'might', 'his', 'very', 'are', 'wherever', 'bottom', 'their', 'cannot', 'else', 'bill', 'regarding', 'so', 'its', 'already', 'of', 'back', 'indeed', 'at', 'least', 'onto', 'as', 'few', 'behind', 'see', 'meanwhile', 'otherwise', 'say', 'seemed', 'she', 'towards', 'beside', 'me', 'doing', 'what', 'thick', 'but', 'out', 'sixty', 'call', 'beyond', 'none', 'move', 'into', 'nor', 'get', 'mostly', 'if', 'most', 'whenever', 'in', 'per', 'this', 'hence', 'since', 'for', 'there', 'anywhere', 'thus', 'hereby', 'among', 'how', 'again', 'serious', 'due', 'done', 'whereby', 'thence', 'herself', 'whereupon', 'almost', 'put', 'found', 'computer', 'next', 'kg', 'hundred', 'him', 'naturally', 'others', 'sometimes', 'our', 'becoming', 'further', 'becomes', 'became', 'to', 'those', 'you', 'no', 'find', 'been', 'i', 'until', 'whole', 'yet', 'between', 'couldnt', 'ever', 'interest', 'during', 'will', 'be', 'former', 'give', 'whether', 'twenty', 'beforehand', 'do', 'too', 'another', 'hasnt', 'hereafter', 'up', 'alone', 'whither', 'and', 'yourselves', 'about', 'except', 'even', 'fifty', 'mine', 'somewhere', 'ie', 'thereupon', 'less', 'various', 'hereupon', 'made', 'eight', 'own', 'because', 'six', 'ours', 'more', 'system', 'noone', 'we', 'anyone', 'was', 'across', 'though', 'now', 'without', 'although', 'several', 'above', 'last', 'sometime', 'really', 'upon', 'all', 'herein', 'cant', 'whom', 'thereby', 'amount', 'often', 'fire', 'whence', 'your', 'using', 'something', 'then', 'everything', 'yourself', 'themselves', 'every', 'with', 'go', 'three', 'unless', 'via', 'toward', 'by', 'they', 'anyhow', 'each', 'when', 'part', 'con', 'both', 'become', 'one', 'thin', 'still', 'fifteen', 'four', 'ltd', 'seem', 'had', 'under', 'just', 'cry', 'name', 'don', 'afterwards', 'yours', 'some', 'company', 'hers', 'etc', 'where', 'also', 'himself', 'or', 'eg', 'seeming', 'nobody', 'seems', 'first', 'once', 'therein', 'below', 'rather', 'why', 'sincere', 'must', 'five', 'namely', 'thereafter', 'am', 'itself', 'not', 'side', 'de', 'around', 'an', 'whereafter', 'everywhere', 'he', 'describe', 'doesn', 'along', 'after', 'throughout', 'moreover', 'detail', 'take', 'empty', 'full', 'front', 'whatever', 'can', 'well', 'would', 'while', 'nothing', 'the', 'nevertheless', 'does', 'show', 'didn', 'either', 'therefore', 'on', 'km', 'nine', 'only', 'everyone', 'it', 'myself', 'have', 'these', 'my', 'elsewhere', 'keep', 're', 'within', 'being', 'us', 'perhaps', 'may', 'never', 'than', 'over', 'from', 'anyway', 'enough', 'fill', 'used', 'has', 'top', 'same', 'down', 'please', 'somehow', 'her', 'forty', 'against', 'whereas', 'them', 'before', 'together', 'many', 'such', 'always', 'whose', 'thru', 'much', 'wherein', 'un', 'anything', 'amoungst', 'mill', 'that', 'off', 'did', 'besides', 'nowhere', 'latter', 'third'})\n"
     ]
    }
   ],
   "source": [
    "all_stopwords_gensim = STOPWORDS.union(set([\"naturally\", \"company\"]))\n",
    "all_stopwords_gensim = all_stopwords_gensim.difference(\"really\")\n",
    "# all_stopwords_gensim = STOPWORDS.difference(set(['really']))\n",
    "\n",
    "print(all_stopwords_gensim)"
   ]
  },
  {
   "cell_type": "code",
   "execution_count": 9,
   "metadata": {},
   "outputs": [
    {
     "data": {
      "text/plain": [
       "\"Subject: naturally it's your irresistible your corporate identity  lt is really hard to recollect a company : the  market is full of suqgestions and the information isoverwhelminq ; but a good  catchy logo , stylish statlonery and outstanding website  will make the task much easier .  we don't promise that havinq ordered a iogo your  company will automaticaily become a world ieader : it isguite ciear that  without good products , effective business organization and practicable aim it  will be hotat nowadays market ; but we do promise that your marketing efforts  will become much more effective . here is the list of clear  benefits : creativeness : hand - made , original logos , specially done  to reflect your distinctive company image . convenience : logo and stationery  are provided in all formats ; easy - to - use content management system letsyou  change your website content and even its structure . promptness : you'll see logo drafts within three business days . affordability : your  marketing break - through shouldn't make gaps in your budget . 100 % satisfaction  guaranteed : we provide unlimited amount of changes with no extra fees for you to  be surethat you will love the result of this collaboration . have a look at our  portfolio _ _ _ _ _ _ _ _ _ _ _ _ _ _ _ _ _ _ _ _ _ _ _ _ _ _ _ _ _ _ _ _ _ _ _ _ _ _ _ _ _ _ _ _ _ _ _ _ _ _ _ _ not interested . . . _ _ _ _ _ _ _ _ _ _ _ _ _ _ _ _ _ _ _ _ _ _ _ _ _ _ _ _ _ _ _ _ _ _ _ _ _ _ _ _ _ _ _ _ _ _ _ _ _ _ _ _\""
      ]
     },
     "execution_count": 9,
     "metadata": {},
     "output_type": "execute_result"
    }
   ],
   "source": [
    "Text = data[\"text\"][0]\n",
    "Text"
   ]
  },
  {
   "cell_type": "code",
   "execution_count": 10,
   "metadata": {},
   "outputs": [
    {
     "name": "stdout",
     "output_type": "stream",
     "text": [
      "['Subject', 's', 'irresistible', 'corporate', 'identity', 'lt', 'hard', 'recollect', 'a', 'market', 'suqgestions', 'information', 'isoverwhelminq', 'a', 'good', 'catchy', 'logo', 'stylish', 'statlonery', 'outstanding', 'website', 'task', 'easier', 't', 'promise', 'havinq', 'ordered', 'a', 'iogo', 'automaticaily', 'a', 'world', 'ieader', 'isguite', 'ciear', 'good', 'products', 'effective', 'business', 'organization', 'practicable', 'aim', 'hotat', 'nowadays', 'market', 'promise', 'marketing', 'efforts', 'effective', 'list', 'clear', 'benefits', 'creativeness', 'hand', 'original', 'logos', 'specially', 'reflect', 'distinctive', 'image', 'convenience', 'logo', 'stationery', 'provided', 'formats', 'easy', 'use', 'content', 'management', 'letsyou', 'change', 'website', 'content', 'structure', 'promptness', 'll', 'logo', 'drafts', 'business', 'days', 'affordability', 'marketing', 'break', 'shouldn', 't', 'gaps', 'budget', 'satisfaction', 'guaranteed', 'provide', 'unlimited', 'changes', 'extra', 'fees', 'surethat', 'love', 'result', 'collaboration', 'a', 'look', 'portfolio', '_', '_', '_', '_', '_', '_', '_', '_', '_', '_', '_', '_', '_', '_', '_', '_', '_', '_', '_', '_', '_', '_', '_', '_', '_', '_', '_', '_', '_', '_', '_', '_', '_', '_', '_', '_', '_', '_', '_', '_', '_', '_', '_', '_', '_', '_', '_', '_', '_', '_', '_', '_', 'interested', '_', '_', '_', '_', '_', '_', '_', '_', '_', '_', '_', '_', '_', '_', '_', '_', '_', '_', '_', '_', '_', '_', '_', '_', '_', '_', '_', '_', '_', '_', '_', '_', '_', '_', '_', '_', '_', '_', '_', '_', '_', '_', '_', '_', '_', '_', '_', '_', '_', '_', '_', '_']\n"
     ]
    }
   ],
   "source": [
    "from gensim.utils import tokenize\n",
    "\n",
    "tokens = list(tokenize(Text))\n",
    "tokens_without_sw = [word for word in tokens if not word in all_stopwords_gensim]\n",
    "\n",
    "print(tokens_without_sw)"
   ]
  },
  {
   "cell_type": "markdown",
   "metadata": {},
   "source": [
    "## Using NLTK"
   ]
  },
  {
   "cell_type": "code",
   "execution_count": 11,
   "metadata": {},
   "outputs": [
    {
     "name": "stdout",
     "output_type": "stream",
     "text": [
      "{'was', \"aren't\", 'll', 'aren', 'now', \"hadn't\", 'above', 'having', \"shan't\", 'which', 'mightn', \"you'll\", 'all', 'through', 's', 'here', 'who', 'won', 'y', 'were', 'whom', 'any', 'your', 'then', \"you've\", 'should', 'other', 'yourself', 'is', 'ourselves', 'themselves', 'with', 'his', 'very', 'a', 'are', 't', 'wasn', \"weren't\", 'their', 'by', 'they', 'each', 'when', 'both', 'its', 'so', 'of', 'at', \"shouldn't\", 'd', 'theirs', 'few', \"couldn't\", 'had', 'under', 'just', \"needn't\", 'don', 'she', \"that'll\", 'yours', 'some', 'hers', 'shan', 'me', 'where', 'hasn', 'doing', 'himself', 'or', 'isn', 'what', 'but', 'o', \"mightn't\", 'out', 'once', \"it's\", \"wouldn't\", 'below', 'into', 'why', 'nor', \"haven't\", 'most', 'if', 'am', 'itself', 'not', 'in', \"she's\", 'haven', 'this', 'an', 'for', 'there', 'needn', 'he', 'doesn', 'how', 'again', 'after', 'mustn', 'herself', \"doesn't\", 'can', 'while', 'the', \"isn't\", 'does', 'didn', 'on', \"won't\", \"should've\", 'couldn', 'only', 'it', 'myself', 'have', 'these', 'him', 'naturally', 'my', 're', 'our', 'further', 'being', \"don't\", 'to', 'those', 'you', 'than', 'over', 'from', 'no', 'been', 'weren', 'i', \"hasn't\", \"you're\", 'until', \"didn't\", 'between', 'during', 'be', 'will', 'has', 'do', 'down', 'same', 'too', 'ain', 'her', 'against', 'before', 'them', 'up', 'and', 'yourselves', 'about', \"you'd\", 'such', 'ma', 'm', 'wouldn', 'shouldn', 'because', 'own', 've', 'hadn', 'that', 'did', 'ours', 'off', 'more', \"wasn't\", \"mustn't\", 'we'}\n"
     ]
    },
    {
     "name": "stderr",
     "output_type": "stream",
     "text": [
      "[nltk_data] Downloading package stopwords to\n",
      "[nltk_data]     C:\\Users\\student\\AppData\\Roaming\\nltk_data...\n",
      "[nltk_data]   Package stopwords is already up-to-date!\n"
     ]
    }
   ],
   "source": [
    "import nltk\n",
    "from nltk.corpus import stopwords\n",
    "from nltk.tokenize import word_tokenize\n",
    "\n",
    "nltk.download(\"stopwords\")\n",
    "\n",
    "\n",
    "stop_words = set(stopwords.words(\"english\"))\n",
    "stop_words.remove(\"as\")\n",
    "stop_words.add(\"naturally\")\n",
    "\n",
    "print(stop_words)"
   ]
  },
  {
   "cell_type": "code",
   "execution_count": 12,
   "metadata": {},
   "outputs": [
    {
     "data": {
      "text/plain": [
       "'Subject: irresistible corporate identity lt really hard recollect company : market full suqgestions information isoverwhelminq ; good catchy logo , stylish statlonery outstanding website make task much easier . promise havinq ordered iogo company automaticaily become world ieader : isguite ciear without good products , effective business organization practicable aim hotat nowadays market ; promise marketing efforts become much effective . list clear benefits : creativeness : hand - made , original logos , specially done reflect distinctive company image . convenience : logo stationery provided formats ; easy - - use content management system letsyou change website content even structure . promptness : see logo drafts within three business days . affordability : marketing break - make gaps budget . 100 % satisfaction guaranteed : provide unlimited amount changes extra fees surethat love result collaboration . look portfolio _ _ _ _ _ _ _ _ _ _ _ _ _ _ _ _ _ _ _ _ _ _ _ _ _ _ _ _ _ _ _ _ _ _ _ _ _ _ _ _ _ _ _ _ _ _ _ _ _ _ _ _ interested . . . _ _ _ _ _ _ _ _ _ _ _ _ _ _ _ _ _ _ _ _ _ _ _ _ _ _ _ _ _ _ _ _ _ _ _ _ _ _ _ _ _ _ _ _ _ _ _ _ _ _ _ _'"
      ]
     },
     "execution_count": 12,
     "metadata": {},
     "output_type": "execute_result"
    }
   ],
   "source": [
    "def remove_stopwords(text):\n",
    "    return \" \".join([word for word in str(text).split() if word not in stop_words])\n",
    "\n",
    "\n",
    "data[\"text\"] = data[\"text\"].apply(lambda x: remove_stopwords(x))\n",
    "data[\"text\"][0]"
   ]
  }
 ],
 "metadata": {
  "kernelspec": {
   "display_name": "prathwik",
   "language": "python",
   "name": "python3"
  },
  "language_info": {
   "codemirror_mode": {
    "name": "ipython",
    "version": 3
   },
   "file_extension": ".py",
   "mimetype": "text/x-python",
   "name": "python",
   "nbconvert_exporter": "python",
   "pygments_lexer": "ipython3",
   "version": "3.11.7"
  }
 },
 "nbformat": 4,
 "nbformat_minor": 2
}
